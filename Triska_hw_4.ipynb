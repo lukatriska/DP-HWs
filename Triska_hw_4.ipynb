{
 "cells": [
  {
   "cell_type": "markdown",
   "metadata": {},
   "source": [
    "### Imputing missing values in the dataset using global most common substitution"
   ]
  },
  {
   "cell_type": "code",
   "execution_count": 5,
   "metadata": {},
   "outputs": [],
   "source": [
    "import pandas as pd\n",
    "import numpy as np\n",
    "\n",
    "import random\n",
    "\n",
    "from sklearn.model_selection import train_test_split\n",
    "from sklearn.impute import SimpleImputer\n",
    "\n",
    "from sklearn.linear_model import LogisticRegression\n",
    "from sklearn import metrics\n",
    "from sklearn.model_selection import cross_val_score\n",
    "\n",
    "import pandas_profiling"
   ]
  },
  {
   "cell_type": "code",
   "execution_count": 788,
   "metadata": {},
   "outputs": [],
   "source": [
    "cols = ['age', 'workclass', 'fnlwgt', 'education', 'education_num', 'marital_status', 'occupation',\n",
    "          'relationship', 'race', 'sex', 'capital_gain', 'capital_loss', 'hours_per_week', 'native_country', 'y']"
   ]
  },
  {
   "cell_type": "code",
   "execution_count": 789,
   "metadata": {},
   "outputs": [],
   "source": [
    "df_train = pd.read_csv('adult.data', names=cols, header=None)\n",
    "df_test = pd.read_csv('adult.test', names=cols, header=None).iloc[1:]"
   ]
  },
  {
   "cell_type": "code",
   "execution_count": 790,
   "metadata": {},
   "outputs": [
    {
     "data": {
      "text/plain": [
       "['workclass',\n",
       " 'education',\n",
       " 'marital_status',\n",
       " 'occupation',\n",
       " 'relationship',\n",
       " 'race',\n",
       " 'sex',\n",
       " 'native_country']"
      ]
     },
     "execution_count": 790,
     "metadata": {},
     "output_type": "execute_result"
    }
   ],
   "source": [
    "num_cols = [\"age\", \"fnlwgt\", \"education_num\", \"capital_gain\", \"capital_loss\", \"hours_per_week\"]\n",
    "cat_cols = [col for col in df_train.columns if col not in num_cols and col != \"y\"]\n",
    "cat_cols"
   ]
  },
  {
   "cell_type": "code",
   "execution_count": 791,
   "metadata": {
    "scrolled": true
   },
   "outputs": [
    {
     "data": {
      "text/html": [
       "<div>\n",
       "<style scoped>\n",
       "    .dataframe tbody tr th:only-of-type {\n",
       "        vertical-align: middle;\n",
       "    }\n",
       "\n",
       "    .dataframe tbody tr th {\n",
       "        vertical-align: top;\n",
       "    }\n",
       "\n",
       "    .dataframe thead th {\n",
       "        text-align: right;\n",
       "    }\n",
       "</style>\n",
       "<table border=\"1\" class=\"dataframe\">\n",
       "  <thead>\n",
       "    <tr style=\"text-align: right;\">\n",
       "      <th></th>\n",
       "      <th>age</th>\n",
       "      <th>workclass</th>\n",
       "      <th>fnlwgt</th>\n",
       "      <th>education</th>\n",
       "      <th>education_num</th>\n",
       "      <th>marital_status</th>\n",
       "      <th>occupation</th>\n",
       "      <th>relationship</th>\n",
       "      <th>race</th>\n",
       "      <th>sex</th>\n",
       "      <th>capital_gain</th>\n",
       "      <th>capital_loss</th>\n",
       "      <th>hours_per_week</th>\n",
       "      <th>native_country</th>\n",
       "      <th>y</th>\n",
       "    </tr>\n",
       "  </thead>\n",
       "  <tbody>\n",
       "    <tr>\n",
       "      <th>0</th>\n",
       "      <td>39</td>\n",
       "      <td>State-gov</td>\n",
       "      <td>77516</td>\n",
       "      <td>Bachelors</td>\n",
       "      <td>13</td>\n",
       "      <td>Never-married</td>\n",
       "      <td>Adm-clerical</td>\n",
       "      <td>Not-in-family</td>\n",
       "      <td>White</td>\n",
       "      <td>Male</td>\n",
       "      <td>2174</td>\n",
       "      <td>0</td>\n",
       "      <td>40</td>\n",
       "      <td>United-States</td>\n",
       "      <td>&lt;=50K</td>\n",
       "    </tr>\n",
       "    <tr>\n",
       "      <th>1</th>\n",
       "      <td>50</td>\n",
       "      <td>Self-emp-not-inc</td>\n",
       "      <td>83311</td>\n",
       "      <td>Bachelors</td>\n",
       "      <td>13</td>\n",
       "      <td>Married-civ-spouse</td>\n",
       "      <td>Exec-managerial</td>\n",
       "      <td>Husband</td>\n",
       "      <td>White</td>\n",
       "      <td>Male</td>\n",
       "      <td>0</td>\n",
       "      <td>0</td>\n",
       "      <td>13</td>\n",
       "      <td>United-States</td>\n",
       "      <td>&lt;=50K</td>\n",
       "    </tr>\n",
       "    <tr>\n",
       "      <th>2</th>\n",
       "      <td>38</td>\n",
       "      <td>Private</td>\n",
       "      <td>215646</td>\n",
       "      <td>HS-grad</td>\n",
       "      <td>9</td>\n",
       "      <td>Divorced</td>\n",
       "      <td>Handlers-cleaners</td>\n",
       "      <td>Not-in-family</td>\n",
       "      <td>White</td>\n",
       "      <td>Male</td>\n",
       "      <td>0</td>\n",
       "      <td>0</td>\n",
       "      <td>40</td>\n",
       "      <td>United-States</td>\n",
       "      <td>&lt;=50K</td>\n",
       "    </tr>\n",
       "    <tr>\n",
       "      <th>3</th>\n",
       "      <td>53</td>\n",
       "      <td>Private</td>\n",
       "      <td>234721</td>\n",
       "      <td>11th</td>\n",
       "      <td>7</td>\n",
       "      <td>Married-civ-spouse</td>\n",
       "      <td>Handlers-cleaners</td>\n",
       "      <td>Husband</td>\n",
       "      <td>Black</td>\n",
       "      <td>Male</td>\n",
       "      <td>0</td>\n",
       "      <td>0</td>\n",
       "      <td>40</td>\n",
       "      <td>United-States</td>\n",
       "      <td>&lt;=50K</td>\n",
       "    </tr>\n",
       "    <tr>\n",
       "      <th>4</th>\n",
       "      <td>28</td>\n",
       "      <td>Private</td>\n",
       "      <td>338409</td>\n",
       "      <td>Bachelors</td>\n",
       "      <td>13</td>\n",
       "      <td>Married-civ-spouse</td>\n",
       "      <td>Prof-specialty</td>\n",
       "      <td>Wife</td>\n",
       "      <td>Black</td>\n",
       "      <td>Female</td>\n",
       "      <td>0</td>\n",
       "      <td>0</td>\n",
       "      <td>40</td>\n",
       "      <td>Cuba</td>\n",
       "      <td>&lt;=50K</td>\n",
       "    </tr>\n",
       "  </tbody>\n",
       "</table>\n",
       "</div>"
      ],
      "text/plain": [
       "   age          workclass  fnlwgt   education  education_num  \\\n",
       "0   39          State-gov   77516   Bachelors             13   \n",
       "1   50   Self-emp-not-inc   83311   Bachelors             13   \n",
       "2   38            Private  215646     HS-grad              9   \n",
       "3   53            Private  234721        11th              7   \n",
       "4   28            Private  338409   Bachelors             13   \n",
       "\n",
       "        marital_status          occupation    relationship    race      sex  \\\n",
       "0        Never-married        Adm-clerical   Not-in-family   White     Male   \n",
       "1   Married-civ-spouse     Exec-managerial         Husband   White     Male   \n",
       "2             Divorced   Handlers-cleaners   Not-in-family   White     Male   \n",
       "3   Married-civ-spouse   Handlers-cleaners         Husband   Black     Male   \n",
       "4   Married-civ-spouse      Prof-specialty            Wife   Black   Female   \n",
       "\n",
       "   capital_gain  capital_loss  hours_per_week  native_country       y  \n",
       "0          2174             0              40   United-States   <=50K  \n",
       "1             0             0              13   United-States   <=50K  \n",
       "2             0             0              40   United-States   <=50K  \n",
       "3             0             0              40   United-States   <=50K  \n",
       "4             0             0              40            Cuba   <=50K  "
      ]
     },
     "execution_count": 791,
     "metadata": {},
     "output_type": "execute_result"
    }
   ],
   "source": [
    "df_train.head(5)"
   ]
  },
  {
   "cell_type": "code",
   "execution_count": 792,
   "metadata": {},
   "outputs": [
    {
     "data": {
      "text/plain": [
       "LogisticRegression(C=1.0, class_weight=None, dual=False, fit_intercept=True,\n",
       "          intercept_scaling=1, max_iter=100, multi_class='warn',\n",
       "          n_jobs=None, penalty='l2', random_state=None, solver='lbfgs',\n",
       "          tol=0.0001, verbose=0, warm_start=False)"
      ]
     },
     "execution_count": 792,
     "metadata": {},
     "output_type": "execute_result"
    }
   ],
   "source": [
    "# numeric imputation\n",
    "numeric_imputer = SimpleImputer(missing_values = 0, strategy = 'median')\n",
    "df_train[['capital_loss', 'capital_gain']] = numeric_imputer.fit_transform(df_train[['capital_loss', 'capital_gain']])\n",
    "df_test[['capital_loss', 'capital_gain']] = numeric_imputer.fit_transform(df_test[['capital_loss', 'capital_gain']])\n",
    "\n",
    "# categorical imputation\n",
    "categoric_imputer = SimpleImputer(missing_values= ' ?', strategy='most_frequent')\n",
    "df_train[['workclass', 'occupation', 'native_country']] = categoric_imputer.fit_transform(df_train[['workclass', 'occupation', 'native_country']])\n",
    "df_test[['workclass', 'occupation', 'native_country']] = categoric_imputer.fit_transform(df_test[['workclass', 'occupation', 'native_country']])\n",
    "\n",
    "df_train['race'] = df_train['race'].str.replace(' ', '')\n",
    "races = list(np.unique(df_train['race'].values))\n",
    "race = df_train['race']\n",
    "df_train_original = df_train.copy()\n",
    "\n",
    "df_train = pd.get_dummies(df_train, columns = cat_cols)\n",
    "df_test = pd.get_dummies(df_test, columns = cat_cols)\n",
    "\n",
    "df_train['y'] = df_train['y'].str.replace(' ', '')\n",
    "\n",
    "df_tr = df_train.copy()\n",
    "df_te = df_test.copy()\n",
    "\n",
    "Y = df_train['y']\n",
    "df_train.drop('y', axis=1, inplace=True)\n",
    "\n",
    "x_train, x_test, y_train, y_test = train_test_split(df_train, Y)\n",
    "model = LogisticRegression(solver='lbfgs')\n",
    "model.fit(x_train, y_train)\n",
    "model.fit(x_test, y_test)"
   ]
  },
  {
   "cell_type": "markdown",
   "metadata": {},
   "source": [
    "### Original results"
   ]
  },
  {
   "cell_type": "code",
   "execution_count": 793,
   "metadata": {
    "scrolled": true
   },
   "outputs": [
    {
     "name": "stdout",
     "output_type": "stream",
     "text": [
      "Train accuracy:  0.7696969696969697\n",
      "Test accuracy:  0.7718953445522663\n"
     ]
    }
   ],
   "source": [
    "train_acc_original = model.score(x_train, y_train)\n",
    "print(\"Train accuracy: \", train_acc_original)\n",
    "test_acc_original = metrics.accuracy_score(y_test, model.predict(x_test))\n",
    "print(\"Test accuracy: \", test_acc_original)"
   ]
  },
  {
   "cell_type": "code",
   "execution_count": 794,
   "metadata": {},
   "outputs": [],
   "source": [
    "def train(df_train):\n",
    "    Y = df_train['y']\n",
    "    df_train.drop('y', axis=1, inplace=True)\n",
    "\n",
    "    x_train, x_test, y_train, y_test = train_test_split(df_train, Y)\n",
    "    model = LogisticRegression(solver='lbfgs', multi_class='auto')\n",
    "    model.fit(x_train, y_train)\n",
    "    model.fit(x_test, y_test)\n",
    "    \n",
    "    train_score = model.score(x_train, y_train)\n",
    "    test_score = metrics.accuracy_score(y_test, model.predict(x_test))\n",
    "    return train_score, test_score"
   ]
  },
  {
   "cell_type": "markdown",
   "metadata": {},
   "source": [
    "# Misclassification noise"
   ]
  },
  {
   "cell_type": "code",
   "execution_count": 795,
   "metadata": {},
   "outputs": [],
   "source": [
    "df_tr2 = df_tr.copy()\n",
    "ns = [1, 5, 10, 20]\n",
    "accs_2 = dict()"
   ]
  },
  {
   "cell_type": "code",
   "execution_count": 796,
   "metadata": {},
   "outputs": [
    {
     "name": "stderr",
     "output_type": "stream",
     "text": [
      "C:\\Users\\schwajka\\Anaconda3\\lib\\site-packages\\sklearn\\linear_model\\logistic.py:757: ConvergenceWarning: lbfgs failed to converge. Increase the number of iterations.\n",
      "  \"of iterations.\", ConvergenceWarning)\n",
      "C:\\Users\\schwajka\\Anaconda3\\lib\\site-packages\\sklearn\\linear_model\\logistic.py:757: ConvergenceWarning: lbfgs failed to converge. Increase the number of iterations.\n",
      "  \"of iterations.\", ConvergenceWarning)\n"
     ]
    }
   ],
   "source": [
    "for n in ns:\n",
    "    df_tr2 = df_tr.copy()\n",
    "    curr_len = int(len(df_tr2['y']) * n / 100)\n",
    "    for i in range(int(len(df_tr2['y'][:curr_len]))):\n",
    "        if df_tr2['y'][i] == '<=50K':\n",
    "            df_tr2['y'][i] = '>50K'\n",
    "        else:\n",
    "            df_tr2['y'][i] = '<=50K'\n",
    "    accs_2[n] = train(df_tr2)"
   ]
  },
  {
   "cell_type": "code",
   "execution_count": 797,
   "metadata": {
    "scrolled": true
   },
   "outputs": [
    {
     "name": "stdout",
     "output_type": "stream",
     "text": [
      "Flipping 1% is safe\n",
      "Flipping 5% is not safe\n",
      "Flipping 10% is not safe\n",
      "Flipping 20% is not safe\n"
     ]
    }
   ],
   "source": [
    "for n in ns:\n",
    "    if abs(accs_2[n][0] - train_acc_original) <= 0.01 and abs(accs_2[n][1] - test_acc_original) <= 0.01:\n",
    "        print(\"Flipping \", n, \"% is safe\", sep='')\n",
    "    else:\n",
    "        print(\"Flipping \", n, \"% is not safe\", sep='')\n",
    "        "
   ]
  },
  {
   "cell_type": "markdown",
   "metadata": {},
   "source": [
    "# Attribute noise"
   ]
  },
  {
   "cell_type": "code",
   "execution_count": 798,
   "metadata": {},
   "outputs": [],
   "source": [
    "df_tr3 = df_train_original.copy()\n",
    "accs_3 = dict()"
   ]
  },
  {
   "cell_type": "code",
   "execution_count": 799,
   "metadata": {},
   "outputs": [
    {
     "name": "stderr",
     "output_type": "stream",
     "text": [
      "C:\\Users\\schwajka\\Anaconda3\\lib\\site-packages\\sklearn\\linear_model\\logistic.py:757: ConvergenceWarning: lbfgs failed to converge. Increase the number of iterations.\n",
      "  \"of iterations.\", ConvergenceWarning)\n",
      "C:\\Users\\schwajka\\Anaconda3\\lib\\site-packages\\sklearn\\linear_model\\logistic.py:757: ConvergenceWarning: lbfgs failed to converge. Increase the number of iterations.\n",
      "  \"of iterations.\", ConvergenceWarning)\n",
      "C:\\Users\\schwajka\\Anaconda3\\lib\\site-packages\\sklearn\\linear_model\\logistic.py:757: ConvergenceWarning: lbfgs failed to converge. Increase the number of iterations.\n",
      "  \"of iterations.\", ConvergenceWarning)\n"
     ]
    }
   ],
   "source": [
    "for n in ns:\n",
    "    df_tr3 = df_train_original.copy()\n",
    "    curr_len = int(len(df_tr3) * n / 100)\n",
    "    for i in range(int(len(df_tr3[:curr_len]))):\n",
    "        df_tr3['age'][i] = -df_tr3['age'][i]\n",
    "        df_tr3['education_num'][i] = random.randint(20, 100)\n",
    "        df_tr3['race'][i] = random.sample(races, 1)[0]\n",
    "    df_tr3 = pd.get_dummies(df_tr3, columns = cat_cols)\n",
    "    accs_3[n] = train(df_tr3)\n",
    "\n"
   ]
  },
  {
   "cell_type": "markdown",
   "metadata": {},
   "source": [
    "## Impact comparison"
   ]
  },
  {
   "cell_type": "code",
   "execution_count": 800,
   "metadata": {},
   "outputs": [],
   "source": [
    "lst = []\n",
    "for n in ns:\n",
    "    res = []\n",
    "    for i in range(6):\n",
    "        if i == 0:\n",
    "            res.append(train_acc_original)\n",
    "        elif i == 1:\n",
    "            res.append(test_acc_original)\n",
    "        elif i == 2:\n",
    "            res.append(accs_2[n][0])\n",
    "        elif i == 3:\n",
    "            res.append(accs_2[n][1])\n",
    "        elif i == 4:\n",
    "            res.append(accs_3[n][0])\n",
    "        elif i == 5:\n",
    "            res.append(accs_3[n][1])\n",
    "    lst.append(res)"
   ]
  },
  {
   "cell_type": "code",
   "execution_count": 801,
   "metadata": {},
   "outputs": [],
   "source": [
    "result = pd.DataFrame(lst, columns=['Original train', 'Original test', \n",
    "                               'Misclassification noise train', 'Misclassification noise test',\n",
    "                               'Attribute noise train', 'Attribute noise test'], index=[1, 5, 10, 20])\n",
    "result.index.name = \"% flipped\""
   ]
  },
  {
   "cell_type": "code",
   "execution_count": 802,
   "metadata": {},
   "outputs": [
    {
     "data": {
      "text/html": [
       "<div>\n",
       "<style scoped>\n",
       "    .dataframe tbody tr th:only-of-type {\n",
       "        vertical-align: middle;\n",
       "    }\n",
       "\n",
       "    .dataframe tbody tr th {\n",
       "        vertical-align: top;\n",
       "    }\n",
       "\n",
       "    .dataframe thead th {\n",
       "        text-align: right;\n",
       "    }\n",
       "</style>\n",
       "<table border=\"1\" class=\"dataframe\">\n",
       "  <thead>\n",
       "    <tr style=\"text-align: right;\">\n",
       "      <th></th>\n",
       "      <th>Original train</th>\n",
       "      <th>Original test</th>\n",
       "      <th>Misclassification noise train</th>\n",
       "      <th>Misclassification noise test</th>\n",
       "      <th>Attribute noise train</th>\n",
       "      <th>Attribute noise test</th>\n",
       "    </tr>\n",
       "    <tr>\n",
       "      <th>% flipped</th>\n",
       "      <th></th>\n",
       "      <th></th>\n",
       "      <th></th>\n",
       "      <th></th>\n",
       "      <th></th>\n",
       "      <th></th>\n",
       "    </tr>\n",
       "  </thead>\n",
       "  <tbody>\n",
       "    <tr>\n",
       "      <th>1</th>\n",
       "      <td>0.769697</td>\n",
       "      <td>0.771895</td>\n",
       "      <td>0.764373</td>\n",
       "      <td>0.766491</td>\n",
       "      <td>0.769533</td>\n",
       "      <td>0.780985</td>\n",
       "    </tr>\n",
       "    <tr>\n",
       "      <th>5</th>\n",
       "      <td>0.769697</td>\n",
       "      <td>0.771895</td>\n",
       "      <td>0.744922</td>\n",
       "      <td>0.742906</td>\n",
       "      <td>0.771785</td>\n",
       "      <td>0.766491</td>\n",
       "    </tr>\n",
       "    <tr>\n",
       "      <th>10</th>\n",
       "      <td>0.769697</td>\n",
       "      <td>0.771895</td>\n",
       "      <td>0.713022</td>\n",
       "      <td>0.715268</td>\n",
       "      <td>0.769779</td>\n",
       "      <td>0.770421</td>\n",
       "    </tr>\n",
       "    <tr>\n",
       "      <th>20</th>\n",
       "      <td>0.769697</td>\n",
       "      <td>0.771895</td>\n",
       "      <td>0.657985</td>\n",
       "      <td>0.660238</td>\n",
       "      <td>0.769328</td>\n",
       "      <td>0.763174</td>\n",
       "    </tr>\n",
       "  </tbody>\n",
       "</table>\n",
       "</div>"
      ],
      "text/plain": [
       "           Original train  Original test  Misclassification noise train  \\\n",
       "% flipped                                                                 \n",
       "1                0.769697       0.771895                       0.764373   \n",
       "5                0.769697       0.771895                       0.744922   \n",
       "10               0.769697       0.771895                       0.713022   \n",
       "20               0.769697       0.771895                       0.657985   \n",
       "\n",
       "           Misclassification noise test  Attribute noise train  \\\n",
       "% flipped                                                        \n",
       "1                              0.766491               0.769533   \n",
       "5                              0.742906               0.771785   \n",
       "10                             0.715268               0.769779   \n",
       "20                             0.660238               0.769328   \n",
       "\n",
       "           Attribute noise test  \n",
       "% flipped                        \n",
       "1                      0.780985  \n",
       "5                      0.766491  \n",
       "10                     0.770421  \n",
       "20                     0.763174  "
      ]
     },
     "execution_count": 802,
     "metadata": {},
     "output_type": "execute_result"
    }
   ],
   "source": [
    "result"
   ]
  },
  {
   "cell_type": "markdown",
   "metadata": {},
   "source": [
    "### Clearly, misclassification noise has a greater impact on the accuracy of the model, especially when n = 10 or 20."
   ]
  },
  {
   "cell_type": "markdown",
   "metadata": {},
   "source": [
    "# Misclassification noise elimination"
   ]
  }
 ],
 "metadata": {
  "kernelspec": {
   "display_name": "Python 3",
   "language": "python",
   "name": "python3"
  },
  "language_info": {
   "codemirror_mode": {
    "name": "ipython",
    "version": 3
   },
   "file_extension": ".py",
   "mimetype": "text/x-python",
   "name": "python",
   "nbconvert_exporter": "python",
   "pygments_lexer": "ipython3",
   "version": "3.6.5"
  }
 },
 "nbformat": 4,
 "nbformat_minor": 2
}
